{
 "cells": [
  {
   "cell_type": "code",
   "execution_count": 5,
   "id": "e895a717-20ed-44b4-b353-e79a4a8fe7f3",
   "metadata": {},
   "outputs": [],
   "source": [
    "import os\n",
    "import cv2\n",
    "import yt_dlp"
   ]
  },
  {
   "cell_type": "code",
   "execution_count": 6,
   "id": "07319c95-99f2-4487-a86d-39c54674d3f3",
   "metadata": {},
   "outputs": [],
   "source": [
    "# Function to download YouTube video\n",
    "def download_youtube_video(youtube_url, output_folder=\"videos\"):\n",
    "    \"\"\"\n",
    "    Downloads a YouTube video using yt-dlp.\n",
    "    \n",
    "    Args:\n",
    "        youtube_url (str): The YouTube video URL.\n",
    "        output_folder (str): Folder to save the downloaded video.\n",
    "\n",
    "    Returns:\n",
    "        str: Path to the downloaded video file.\n",
    "    \"\"\"\n",
    "    os.makedirs(output_folder, exist_ok=True)\n",
    "    output_path = os.path.join(output_folder, \"%(title)s.%(ext)s\")\n",
    "\n",
    "    ydl_opts = {\n",
    "        \"format\": \"mp4\",\n",
    "        \"outtmpl\": output_path,\n",
    "        \"quiet\": True,\n",
    "    }\n",
    "\n",
    "    with yt_dlp.YoutubeDL(ydl_opts) as ydl:\n",
    "        info_dict = ydl.extract_info(youtube_url, download=True)\n",
    "        video_filename = ydl.prepare_filename(info_dict).replace(\".webm\", \".mp4\")  # Ensure MP4 extension\n",
    "        return video_filename\n",
    "\n",
    "# Function to extract frames at specific timestamps\n",
    "def extract_frames(video_path, timestamps, output_folder=\"screenshots\"):\n",
    "    \"\"\"\n",
    "    Extracts frames from a video at specified timestamps.\n",
    "\n",
    "    Args:\n",
    "        video_path (str): Path to the video file.\n",
    "        timestamps (list): List of timestamps in seconds.\n",
    "        output_folder (str): Folder to save the screenshots.\n",
    "\n",
    "    Returns:\n",
    "        None\n",
    "    \"\"\"\n",
    "    os.makedirs(output_folder, exist_ok=True)\n",
    "\n",
    "    cap = cv2.VideoCapture(video_path)\n",
    "    if not cap.isOpened():\n",
    "        print(\"Error: Could not open video.\")\n",
    "        return\n",
    "\n",
    "    fps = cap.get(cv2.CAP_PROP_FPS)\n",
    "\n",
    "    for timestamp in timestamps:\n",
    "        frame_number = int(timestamp * fps)\n",
    "        cap.set(cv2.CAP_PROP_POS_FRAMES, frame_number)\n",
    "\n",
    "        ret, frame = cap.read()\n",
    "        if ret:\n",
    "            output_path = os.path.join(output_folder, f\"screenshot_{timestamp:.2f}s.jpg\")\n",
    "            cv2.imwrite(output_path, frame)\n",
    "            print(f\"Saved: {output_path}\")\n",
    "        else:\n",
    "            print(f\"Warning: Could not extract frame at {timestamp} seconds.\")\n",
    "\n",
    "    cap.release()\n",
    "    print(\"Extraction complete.\")"
   ]
  },
  {
   "cell_type": "code",
   "execution_count": 3,
   "id": "9ee71916-4ef8-445c-bdb6-3226bc23ffb0",
   "metadata": {},
   "outputs": [
    {
     "name": "stdout",
     "output_type": "stream",
     "text": [
      "Collecting yt-dlp\n",
      "  Downloading yt_dlp-2025.1.26-py3-none-any.whl.metadata (172 kB)\n",
      "Collecting opencv-python\n",
      "  Downloading opencv_python-4.11.0.86-cp37-abi3-macosx_13_0_x86_64.whl.metadata (20 kB)\n",
      "Collecting ffmpeg-python\n",
      "  Downloading ffmpeg_python-0.2.0-py3-none-any.whl.metadata (1.7 kB)\n",
      "Requirement already satisfied: numpy in /Users/soodoku/opt/anaconda3/envs/py311ds/lib/python3.11/site-packages (2.2.2)\n",
      "Collecting future (from ffmpeg-python)\n",
      "  Downloading future-1.0.0-py3-none-any.whl.metadata (4.0 kB)\n",
      "Downloading yt_dlp-2025.1.26-py3-none-any.whl (3.2 MB)\n",
      "\u001b[2K   \u001b[90m━━━━━━━━━━━━━━━━━━━━━━━━━━━━━━━━━━━━━━━━\u001b[0m \u001b[32m3.2/3.2 MB\u001b[0m \u001b[31m44.8 MB/s\u001b[0m eta \u001b[36m0:00:00\u001b[0m\n",
      "\u001b[?25hDownloading opencv_python-4.11.0.86-cp37-abi3-macosx_13_0_x86_64.whl (56.7 MB)\n",
      "\u001b[2K   \u001b[90m━━━━━━━━━━━━━━━━━━━━━━━━━━━━━━━━━━━━━━━━\u001b[0m \u001b[32m56.7/56.7 MB\u001b[0m \u001b[31m15.4 MB/s\u001b[0m eta \u001b[36m0:00:00\u001b[0m00:01\u001b[0m00:01\u001b[0m\n",
      "\u001b[?25hDownloading ffmpeg_python-0.2.0-py3-none-any.whl (25 kB)\n",
      "Downloading future-1.0.0-py3-none-any.whl (491 kB)\n",
      "Installing collected packages: yt-dlp, opencv-python, future, ffmpeg-python\n",
      "Successfully installed ffmpeg-python-0.2.0 future-1.0.0 opencv-python-4.11.0.86 yt-dlp-2025.1.26\n",
      "Note: you may need to restart the kernel to use updated packages.\n"
     ]
    }
   ],
   "source": [
    "# Example Usage\n",
    "youtube_url = \"https://www.youtube.com/watch?v=dE-om2SzswM\"\n",
    "timestamps_to_extract = [2.5, 5.0, 10.0, 30.0]  # Seconds\n",
    "\n",
    "# Download video\n",
    "video_path = download_youtube_video(youtube_url)\n",
    "print(f\"Downloaded video: {video_path}\")\n",
    "\n",
    "# Extract screenshots\n",
    "extract_frames(video_path, timestamps_to_extract)"
   ]
  },
  {
   "cell_type": "code",
   "execution_count": null,
   "id": "2e89d23f-3418-4ade-8cb2-ca79e0512482",
   "metadata": {},
   "outputs": [],
   "source": []
  }
 ],
 "metadata": {
  "kernelspec": {
   "display_name": "Python 3.11 (Data Science)",
   "language": "python",
   "name": "py311ds"
  },
  "language_info": {
   "codemirror_mode": {
    "name": "ipython",
    "version": 3
   },
   "file_extension": ".py",
   "mimetype": "text/x-python",
   "name": "python",
   "nbconvert_exporter": "python",
   "pygments_lexer": "ipython3",
   "version": "3.11.11"
  }
 },
 "nbformat": 4,
 "nbformat_minor": 5
}
